{
 "cells": [
  {
   "cell_type": "markdown",
   "metadata": {
    "slideshow": {
     "slide_type": "slide"
    }
   },
   "source": [
    "<center> <h1>IST718</h1> </center>\n",
    "<center> <h1>Big Data Analytics</h1> </center>\n",
    "<br>\n",
    "<br>\n",
    "<center> <h2>Unit 1: A Course Introduction</h2> </center>"
   ]
  },
  {
   "cell_type": "markdown",
   "metadata": {
    "slideshow": {
     "slide_type": "slide"
    }
   },
   "source": [
    "# About me\n",
    "\n",
    "- Daniel Acuna, Assistant Professor, iSchool\n",
    "  - Ph.D. Computer Science, University of Minnesota, Twin Cities\n",
    "  - Postdoctoral Researcher, Northwestern University & RIC\n",
    "  - Member of Metaknowledge Research Network, University of Chicago\n",
    "  - Affiliated to the Center for Computational and Data Science @ SU\n",
    "\n",
    "- Research interests\n",
    "  - “Science of science”, human-AI collaboration\n",
    "<br>\n",
    "<br>"
   ]
  },
  {
   "cell_type": "markdown",
   "metadata": {
    "slideshow": {
     "slide_type": "slide"
    }
   },
   "source": [
    "# Recommendation system\n",
    "<center><img src=\"./images/unit-01/unit-01-0_ci1.png\" width=\"55%\" align=\"center\"></center>\n",
    "\n",
    "$$u=(1+\\alpha)\\frac{\\sum_{i\\in \\text{Relevant}}d_i}{|\\text{Relevant}|} - \n",
    "\\beta\\frac{\\sum_{j\\in \\text{Not Relevant}}d_j}{|\\text{Not Relevant}|}$$\n",
    "\n",
    "<center><img src=\"./images/unit-01/unit-01-0_ci2.png\" width=\"35%\" align=\"center\"></center>"
   ]
  },
  {
   "cell_type": "markdown",
   "metadata": {
    "slideshow": {
     "slide_type": "slide"
    }
   },
   "source": [
    "#  Activity recognition: in the past\n",
    "<img src=\"./images/unit-01/unit-01-0_ci3.png\" width=\"30%\" align=\"left\">\n",
    "We have very good quality but invasive features:\n",
    "- GPS\n",
    "- Audio\n",
    "- WiFi location\n",
    "- App activity\n",
    "<br>\n",
    "<center> <img src=\"./images/unit-01/unit-01-0_ci4.png\" width=\"10%\"> </center>\n",
    "<br>\n",
    "<center>Predict location and activity</center>\n",
    "<br>\n",
    "<br>"
   ]
  },
  {
   "cell_type": "markdown",
   "metadata": {
    "slideshow": {
     "slide_type": "slide"
    }
   },
   "source": [
    "#  Activity recognition: big data\n",
    " \n",
    "With big data we might not need such high quality features but just a ton of data\n",
    "- App open and close activity\n",
    "- And clock\n",
    "2 billion seconds of phone activity  \n",
    "<left> <img src=\"./images/unit-01/unit-01-0_ci5.png\" width=\"45%\" align=\"left\"> </left>\n",
    "<right><img src=\"./images/unit-01/unit-01-0_ci6.png\" width=\"28%\" align=\"right\"></right> "
   ]
  },
  {
   "cell_type": "markdown",
   "metadata": {
    "slideshow": {
     "slide_type": "slide"
    }
   },
   "source": [
    "# About the course (go over Syllabus)\n",
    "- 1/4 of the course covers prerequisite skills required for big data analytics\n",
    "  - Python programming, understanding machine learning\n",
    "- 1/4 of the course covers the Spark and Hadoop, providing skills required to perform big data analytics.\n",
    "- 1/4 of the course consists of case studies, where you apply your skills and knowledge to real-world applications.\n",
    "- 1/4 of the course consists of a project, where you work in groups in a real world application"
   ]
  },
  {
   "cell_type": "markdown",
   "metadata": {
    "slideshow": {
     "slide_type": "slide"
    }
   },
   "source": [
    "# Course roadmap\n",
    "\n",
    "<center> <img src=\"./images/unit-01/unit-01-0_ci7.png\" width=\"70%\" align=\"center\"> </center>\n",
    "- Small/medium data\n",
    "- Low model complexity\n",
    "- High interpretability\n",
    "- Low computational power\n",
    "\n",
    "\n",
    "- Big data\n",
    "- High model complexity\n",
    "- Low interpretability\n",
    "- High computational power"
   ]
  },
  {
   "cell_type": "markdown",
   "metadata": {
    "slideshow": {
     "slide_type": "slide"
    }
   },
   "source": [
    "# Course preview (1)\n",
    "- Slides\n",
    "\n",
    "<center> <img src=\"./images/unit-01/unit-01-0_ci8.png\" width=\"80%\" align=\"center\"> </center>"
   ]
  },
  {
   "cell_type": "markdown",
   "metadata": {
    "slideshow": {
     "slide_type": "slide"
    }
   },
   "source": [
    "# Course preview (2)\n",
    "- Notebooks and labs to be done on your own\n",
    "\n",
    "<center> <img src=\"./images/unit-01/unit-01-0_ci9.png\" width=\"45%\" align=\"center\"> </center>"
   ]
  },
  {
   "cell_type": "markdown",
   "metadata": {
    "slideshow": {
     "slide_type": "slide"
    }
   },
   "source": [
    "# Course preview (3)\n",
    "- Quiz\n",
    "\n",
    "<center> <img src=\"./images/unit-01/unit-01-0_ci10.png\" width=\"60%\" align=\"center\"> </center>"
   ]
  },
  {
   "cell_type": "markdown",
   "metadata": {
    "slideshow": {
     "slide_type": "slide"
    }
   },
   "source": [
    "# Course preview (4)\n",
    "- Project\n",
    "\n",
    "<left> <img src=\"./images/unit-01/unit-01-0_ci11.png\" width=\"35%\" align=\"left\"> </left>\n",
    "<right> <img src=\"./images/unit-01/unit-01-0_ci12.png\" width=\"35%\" align=\"right\"> </right>"
   ]
  },
  {
   "cell_type": "markdown",
   "metadata": {
    "slideshow": {
     "slide_type": "slide"
    }
   },
   "source": [
    "# Course preview (5)\n",
    "- Discussion of current trends throughout the semester\n",
    "\n",
    "<center> <img src=\"./images/unit-01/unit-01-0_ci13.png\" width=\"40%\" align=\"center\"> </center>"
   ]
  },
  {
   "cell_type": "markdown",
   "metadata": {
    "slideshow": {
     "slide_type": "slide"
    }
   },
   "source": [
    "# Question: What is data science?"
   ]
  },
  {
   "cell_type": "markdown",
   "metadata": {
    "slideshow": {
     "slide_type": "notes"
    }
   },
   "source": [
    "Take 5 minutes and take answers from students to this question. The idea is to get the discussion going so that students are engaged throughout the lecture.\n",
    "\n",
    "NOTE: be sure to give the students 30 seconds to collect their thoughts before asking them to answer this questions."
   ]
  },
  {
   "cell_type": "markdown",
   "metadata": {
    "slideshow": {
     "slide_type": "slide"
    }
   },
   "source": [
    "# Data Science is \n",
    "<right> <img src=\"./images/unit-01/unit-01-0_ci14.png\" width=\"30%\" align=\"right\"> </right>\n",
    "\n",
    "- A combination of disciplines:\n",
    "  - Information / Computer science\n",
    "  - Mathematics\n",
    "  - Statistics\n",
    "  - Research / Management Science \n",
    "  - Domain Knowledge\n",
    "\n",
    "\n",
    "- With the goal of:\n",
    "  - Using data to make decisions and drive actions"
   ]
  },
  {
   "cell_type": "markdown",
   "metadata": {
    "slideshow": {
     "slide_type": "notes"
    }
   },
   "source": [
    "data science as multi-disciplinary with the goal of using data to make decisions."
   ]
  },
  {
   "cell_type": "markdown",
   "metadata": {
    "slideshow": {
     "slide_type": "slide"
    }
   },
   "source": [
    "# Data Science Venn Diagram*\n",
    "<br>\n",
    "<center> <img src=\"./images/unit-01/unit-01-0_ci15.png\" width=\"45%\" align=\"center\"> </center>\n",
    "*Drew Conway: https://s3.amazonaws.com/aws.drewconway.com/viz/venn_diagram/data_science.html"
   ]
  },
  {
   "cell_type": "markdown",
   "metadata": {
    "slideshow": {
     "slide_type": "notes"
    }
   },
   "source": [
    "Hacking skills represents programming, software expertise, and data manipulation abilities.\n",
    "Danger zone represents creating analysis without knowledge of how you got there, common among people with subject expertise and the ability to generate their own results technically."
   ]
  },
  {
   "cell_type": "markdown",
   "metadata": {
    "slideshow": {
     "slide_type": "slide"
    }
   },
   "source": [
    "# \"Classic\" data science\n",
    "- Expert is in charge of creating model  \n",
    "\n",
    "\n",
    "- Expert is in charge of providing features that describe or predict new data  \n",
    "\n",
    "\n",
    "- Expert typically produces small models  \n",
    "\n",
    "\n",
    "- Expert typically produces very transparent and easy to understand models  "
   ]
  },
  {
   "cell_type": "markdown",
   "metadata": {
    "slideshow": {
     "slide_type": "slide"
    }
   },
   "source": [
    "# Big Data"
   ]
  },
  {
   "cell_type": "markdown",
   "metadata": {
    "slideshow": {
     "slide_type": "slide"
    }
   },
   "source": [
    "# What is Big Data?\n",
    "\n",
    "Data with the following characteristics:  \n",
    "  - Data Volume too large to store on a single system.  \n",
    "  - Data Velocity too fast for processing by a single computer.  \n",
    "  - Data Variety too complex for traditional processing techniques.  \n",
    "\n",
    "These are known as the \"three V’s\" of big data.\n"
   ]
  },
  {
   "cell_type": "markdown",
   "metadata": {
    "slideshow": {
     "slide_type": "slide"
    }
   },
   "source": [
    "# \"A new kind of data science\"\n",
    "<right> <img src=\"./images/unit-01/unit-01-0_ci16.png\" width=\"12%\" align=\"right\"> </right>\n",
    "\n",
    "**Classic data science**\n",
    "- Expert is in charge of creating model\n",
    "- Expert is in charge of providing features that describe or predict new data\n",
    "- Expert typically produces small models\n",
    "- Expert typically produces very transparent and easy to understand models  \n",
    "\n",
    "**Big-data data science**\n",
    "- Generally, there is no expert\n",
    "- Model used is very general or there is no model at all!\n",
    "- Features are very low level (e.g., raw transactions vs credit scores)\n",
    "- Models are very large when fit (e.g., Baidu speech recognition is several terabytes)\n",
    "- Models are black boxes and almost impossible to understand"
   ]
  },
  {
   "cell_type": "markdown",
   "metadata": {
    "slideshow": {
     "slide_type": "slide"
    }
   },
   "source": [
    "<center> <img src=\"./images/unit-01/unit-01-0_ci17.png\" width=\"100%\" align=\"center\"> </center>"
   ]
  },
  {
   "cell_type": "markdown",
   "metadata": {
    "slideshow": {
     "slide_type": "slide"
    }
   },
   "source": [
    "# Image recognition  \n",
    "<br>\n",
    "<center> <img src=\"./images/unit-01/unit-01-0_ci18.png\" width=\"80%\" align=\"center\"> </center>\n",
    "<br>\n",
    "<center>A task that was incredibly challenging and a benchmark for computer algorithms</center>"
   ]
  },
  {
   "cell_type": "markdown",
   "metadata": {
    "slideshow": {
     "slide_type": "slide"
    }
   },
   "source": [
    "# Image recognition: ImageNet  \n",
    "<br>\n",
    "<center> <img src=\"./images/unit-01/unit-01-0_ci19.png\" width=\"100%\" align=\"center\"> </center>\n"
   ]
  },
  {
   "cell_type": "markdown",
   "metadata": {
    "slideshow": {
     "slide_type": "fragment"
    }
   },
   "source": [
    "<center>First models were based on Nearest Neighbor and Naïve Bayes algorithms</center>"
   ]
  },
  {
   "cell_type": "markdown",
   "metadata": {
    "slideshow": {
     "slide_type": "slide"
    }
   },
   "source": [
    "<center> <img src=\"./images/unit-01/unit-01-0_ci20.png\" width=\"50%\" align=\"center\"> </center>"
   ]
  },
  {
   "cell_type": "markdown",
   "metadata": {
    "slideshow": {
     "slide_type": "slide"
    }
   },
   "source": [
    "# State of the art ImageNet model\n",
    "\n",
    "<left> <img src=\"./images/unit-01/unit-01-0_ci21.png\" width=\"35%\" align=\"left\"> </left>\n",
    "<center> <img src=\"./images/unit-01/unit-01-0_ci22.png\" width=\"17%\" align=\"center\"> </center>"
   ]
  },
  {
   "cell_type": "markdown",
   "metadata": {
    "slideshow": {
     "slide_type": "slide"
    }
   },
   "source": [
    "# Speech recognition: Generative model\n",
    "<br>\n",
    "<center> <img src=\"./images/unit-01/unit-01-0_ci23.png\" width=\"60%\" align=\"center\"> </center>"
   ]
  },
  {
   "cell_type": "markdown",
   "metadata": {
    "slideshow": {
     "slide_type": "slide"
    }
   },
   "source": [
    "# Speech recognition: Deep Speech 2 (Baidu) (1)\n",
    "<br>\n",
    "<center> <img src=\"./images/unit-01/unit-01-0_ci24.png\" width=\"80%\" align=\"center\"> </center>"
   ]
  },
  {
   "cell_type": "markdown",
   "metadata": {
    "slideshow": {
     "slide_type": "slide"
    }
   },
   "source": [
    "# Speech recognition: Deep Speech 2 (Baidu) (2)\n",
    "<br>\n",
    "<center> <img src=\"./images/unit-01/unit-01-0_ci25.png\" width=\"100%\" align=\"center\"> </center>"
   ]
  },
  {
   "cell_type": "markdown",
   "metadata": {
    "slideshow": {
     "slide_type": "slide"
    }
   },
   "source": [
    "# Music: Implicit-feedback ALS (Spotify)\n",
    "<br>\n",
    "<center> <img src=\"./images/unit-01/unit-01-0_ci26.png\" width=\"80%\" align=\"center\"> </center>"
   ]
  },
  {
   "cell_type": "markdown",
   "metadata": {
    "slideshow": {
     "slide_type": "slide"
    }
   },
   "source": [
    "# What will this course cover? (1)\n",
    "<br>\n",
    "<center> <img src=\"./images/unit-01/unit-01-0_ci27.png\" width=\"80%\" align=\"center\"> </center>"
   ]
  },
  {
   "cell_type": "markdown",
   "metadata": {
    "slideshow": {
     "slide_type": "notes"
    }
   },
   "source": [
    "Retrospective: “What Happened?”\n",
    "Diagnostic: “Why did it happen?”\n",
    "Descriptive: “What is happening now?”\n",
    "Predictive: “What is likely to happen?”\n",
    "Prescriptive: “What should I do about it?”"
   ]
  },
  {
   "cell_type": "markdown",
   "metadata": {
    "slideshow": {
     "slide_type": "slide"
    }
   },
   "source": [
    "# What will this course cover? (2)\n",
    "<br>\n",
    "<center> <img src=\"./images/unit-01/unit-01-0_ci28.png\" width=\"80%\" align=\"center\"> </center>"
   ]
  },
  {
   "cell_type": "markdown",
   "metadata": {
    "slideshow": {
     "slide_type": "slide"
    }
   },
   "source": [
    "# First steps\n",
    "- The sooner your start playing with Python and Spark, the better\n",
    "- Create a Github account http://github.com\n",
    "- Give me your Github username by completing the \"Github username\" test assignment on Blackboard\n",
    "- Go to http://notebook.acuna.io and use Github to login\n",
    "- Optional\n",
    "  - Install Anaconda Python 3.6 https://www.anaconda.com/download/\n",
    "  - Install PySpark through pip https://pypi.org/project/pyspark/\n",
    "- Go to http://spark.apache.org and read the documentation\n",
    "  - Do “Quick Start”, and maybe ”SQL, DataFrames, and Datasets”\n",
    "  - See how the API is structured http://spark.apache.org/docs/latest/api/python/index.html"
   ]
  },
  {
   "cell_type": "markdown",
   "metadata": {
    "slideshow": {
     "slide_type": "slide"
    }
   },
   "source": [
    "# Questions?\n",
    "\n",
    "- Contact me at deacuna@syr.edu\n",
    "- Leave a message in Blackboard class forum\n",
    "- Visit office hours often"
   ]
  }
 ],
 "metadata": {
  "celltoolbar": "Slideshow",
  "kernelspec": {
   "display_name": "Python 3",
   "language": "python",
   "name": "python3"
  },
  "language_info": {
   "codemirror_mode": {
    "name": "ipython",
    "version": 3
   },
   "file_extension": ".py",
   "mimetype": "text/x-python",
   "name": "python",
   "nbconvert_exporter": "python",
   "pygments_lexer": "ipython3",
   "version": "3.6.3"
  }
 },
 "nbformat": 4,
 "nbformat_minor": 2
}
